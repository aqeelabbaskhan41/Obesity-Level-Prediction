{
 "cells": [
  {
   "cell_type": "code",
   "execution_count": null,
   "id": "450ad551",
   "metadata": {},
   "outputs": [
    {
     "name": "stdout",
     "output_type": "stream",
     "text": [
      "Defaulting to user installation because normal site-packages is not writeable\n",
      "Requirement already satisfied: pandas in c:\\users\\lenovo\\appdata\\local\\packages\\pythonsoftwarefoundation.python.3.12_qbz5n2kfra8p0\\localcache\\local-packages\\python312\\site-packages (2.2.3)\n",
      "Requirement already satisfied: numpy>=1.26.0 in c:\\users\\lenovo\\appdata\\local\\packages\\pythonsoftwarefoundation.python.3.12_qbz5n2kfra8p0\\localcache\\local-packages\\python312\\site-packages (from pandas) (2.2.3)\n",
      "Requirement already satisfied: python-dateutil>=2.8.2 in c:\\users\\lenovo\\appdata\\local\\packages\\pythonsoftwarefoundation.python.3.12_qbz5n2kfra8p0\\localcache\\local-packages\\python312\\site-packages (from pandas) (2.9.0.post0)\n",
      "Requirement already satisfied: pytz>=2020.1 in c:\\users\\lenovo\\appdata\\local\\packages\\pythonsoftwarefoundation.python.3.12_qbz5n2kfra8p0\\localcache\\local-packages\\python312\\site-packages (from pandas) (2025.1)\n",
      "Requirement already satisfied: tzdata>=2022.7 in c:\\users\\lenovo\\appdata\\local\\packages\\pythonsoftwarefoundation.python.3.12_qbz5n2kfra8p0\\localcache\\local-packages\\python312\\site-packages (from pandas) (2025.1)\n",
      "Requirement already satisfied: six>=1.5 in c:\\users\\lenovo\\appdata\\local\\packages\\pythonsoftwarefoundation.python.3.12_qbz5n2kfra8p0\\localcache\\local-packages\\python312\\site-packages (from python-dateutil>=2.8.2->pandas) (1.17.0)\n"
     ]
    },
    {
     "name": "stderr",
     "output_type": "stream",
     "text": [
      "\n",
      "[notice] A new release of pip is available: 25.0.1 -> 25.1.1\n",
      "[notice] To update, run: C:\\Users\\lenovo\\AppData\\Local\\Microsoft\\WindowsApps\\PythonSoftwareFoundation.Python.3.12_qbz5n2kfra8p0\\python.exe -m pip install --upgrade pip\n"
     ]
    }
   ],
   "source": [
    "## updated"
   ]
  },
  {
   "cell_type": "code",
   "execution_count": 13,
   "id": "e9d6f40c",
   "metadata": {},
   "outputs": [
    {
     "ename": "ModuleNotFoundError",
     "evalue": "No module named 'pandas'",
     "output_type": "error",
     "traceback": [
      "\u001b[1;31m---------------------------------------------------------------------------\u001b[0m",
      "\u001b[1;31mModuleNotFoundError\u001b[0m                       Traceback (most recent call last)",
      "Cell \u001b[1;32mIn[13], line 1\u001b[0m\n\u001b[1;32m----> 1\u001b[0m \u001b[38;5;28;01mimport\u001b[39;00m\u001b[38;5;250m \u001b[39m\u001b[38;5;21;01mpandas\u001b[39;00m\u001b[38;5;250m \u001b[39m\u001b[38;5;28;01mas\u001b[39;00m\u001b[38;5;250m \u001b[39m\u001b[38;5;21;01mpd\u001b[39;00m\n\u001b[0;32m      2\u001b[0m \u001b[38;5;28;01mimport\u001b[39;00m\u001b[38;5;250m \u001b[39m\u001b[38;5;21;01mmatplotlib\u001b[39;00m\u001b[38;5;21;01m.\u001b[39;00m\u001b[38;5;21;01mpyplot\u001b[39;00m\u001b[38;5;250m \u001b[39m\u001b[38;5;28;01mas\u001b[39;00m\u001b[38;5;250m \u001b[39m\u001b[38;5;21;01mplt\u001b[39;00m\n\u001b[0;32m      3\u001b[0m \u001b[38;5;28;01mimport\u001b[39;00m\u001b[38;5;250m \u001b[39m\u001b[38;5;21;01mseaborn\u001b[39;00m\u001b[38;5;250m \u001b[39m\u001b[38;5;28;01mas\u001b[39;00m\u001b[38;5;250m \u001b[39m\u001b[38;5;21;01msns\u001b[39;00m\n",
      "\u001b[1;31mModuleNotFoundError\u001b[0m: No module named 'pandas'"
     ]
    }
   ],
   "source": [
    "import pandas as pd\n",
    "import matplotlib.pyplot as plt\n",
    "import seaborn as sns"
   ]
  },
  {
   "cell_type": "markdown",
   "id": "39262d79",
   "metadata": {},
   "source": []
  },
  {
   "cell_type": "markdown",
   "id": "180c370b",
   "metadata": {},
   "source": []
  },
  {
   "cell_type": "code",
   "execution_count": null,
   "id": "fb5c66d6",
   "metadata": {},
   "outputs": [],
   "source": [
    "df=pd.read_csv('ObesityDataSet.csv')"
   ]
  },
  {
   "cell_type": "code",
   "execution_count": null,
   "id": "4ec9a1c6",
   "metadata": {},
   "outputs": [],
   "source": [
    "df.head(20)"
   ]
  },
  {
   "cell_type": "code",
   "execution_count": null,
   "id": "b15f2b2d",
   "metadata": {},
   "outputs": [],
   "source": [
    "avg=df['Weight'].mean()\n",
    "print('Average',avg)"
   ]
  },
  {
   "cell_type": "code",
   "execution_count": null,
   "id": "9cf89e4d",
   "metadata": {},
   "outputs": [],
   "source": [
    "many=df['Height'].mode()\n",
    "print('mode',many)"
   ]
  },
  {
   "cell_type": "code",
   "execution_count": null,
   "id": "be6285ff",
   "metadata": {},
   "outputs": [],
   "source": [
    "df.dtypes"
   ]
  },
  {
   "cell_type": "code",
   "execution_count": null,
   "id": "b03ca708",
   "metadata": {},
   "outputs": [],
   "source": [
    "# Create subplots manually\n",
    "fig, axes = plt.subplots(2, 2, figsize=(16, 12))  # 2 rows, 2 columns\n",
    "\n",
    "# Boxplot 1 - Age\n",
    "sns.boxplot(x=df['Age'], ax=axes[0, 0])\n",
    "axes[0, 0].set_title('Box Plot of Age')\n",
    "\n",
    "# Boxplot 2 - Weight\n",
    "sns.boxplot(x=df['Weight'], ax=axes[0, 1])\n",
    "axes[0, 1].set_title('Box Plot of Weight')\n",
    "\n",
    "# Boxplot 3 - Height\n",
    "sns.boxplot(x=df['Height'], ax=axes[1, 0])\n",
    "axes[1, 0].set_title('Box Plot of Height')\n",
    "\n",
    "# Boxplot 4 - physical_activity\n",
    "sns.boxplot(x=df['physical_activity'], ax=axes[1, 1])\n",
    "axes[1, 1].set_title('Box Plot of physical_activity')\n",
    "\n",
    "# Adjust layout to avoid overlap\n",
    "plt.tight_layout()\n",
    "\n",
    "# Show the plots\n",
    "plt.show()\n"
   ]
  },
  {
   "cell_type": "code",
   "execution_count": null,
   "id": "72d85a84",
   "metadata": {},
   "outputs": [],
   "source": [
    "Q1 = df['Weight'].quantile(0.25)\n",
    "Q3 = df['Weight'].quantile(0.75)\n",
    "IQR = Q3 - Q1\n",
    "\n",
    "# 2. Define the “normal” range\n",
    "lower_bound = Q1 - 1.5 * IQR\n",
    "upper_bound = Q3 + 1.5 * IQR\n",
    "\n",
    "# 3. Filter out the outliers\n",
    "df = df[(df['Weight'] >= lower_bound) & (df['Weight'] <= upper_bound)]\n"
   ]
  },
  {
   "cell_type": "code",
   "execution_count": null,
   "id": "f11a0b25",
   "metadata": {},
   "outputs": [],
   "source": [
    "Q1 = df['Height'].quantile(0.25)\n",
    "Q3 = df['Height'].quantile(0.75)\n",
    "IQR = Q3 - Q1\n",
    "\n",
    "# 2. Define the “normal” range\n",
    "lower_bound = Q1 - 1.5 * IQR\n",
    "upper_bound = Q3 + 1.5 * IQR\n",
    "\n",
    "# 3. Filter out the outliers\n",
    "df = df[(df['Height'] >= lower_bound) & (df['Height'] <= upper_bound)]\n",
    "\n",
    "print(f\"Original rows: {len(df)}\")"
   ]
  },
  {
   "cell_type": "code",
   "execution_count": null,
   "id": "c56f3cb0",
   "metadata": {},
   "outputs": [],
   "source": [
    "fig, axes = plt.subplots(2, 2, figsize=(15, 10))  # 2 rows, 2 columns\n",
    "\n",
    "# Barplot 1 - Weight vs Obesity\n",
    "sns.barplot(x=df[\"obesity_level\"], y=df[\"Weight\"], ci=None, palette=\"viridis\", ax=axes[0, 0])\n",
    "axes[0, 0].tick_params(axis='x', rotation=45)\n",
    "axes[0, 0].set_xlabel(\"Obesity Category\")\n",
    "axes[0, 0].set_ylabel(\"Weight\")\n",
    "axes[0, 0].set_title(\"Weight and Obesity\")\n",
    "\n",
    "# Barplot 2 - Height vs Obesity\n",
    "sns.barplot(x=df[\"obesity_level\"], y=df[\"Height\"], ci=None, palette=\"viridis\", ax=axes[0, 1])\n",
    "axes[0, 1].tick_params(axis='x', rotation=45)\n",
    "axes[0, 1].set_xlabel(\"Obesity Category\")\n",
    "axes[0, 1].set_ylabel(\"Height\")\n",
    "axes[0, 1].set_title(\"Height and Obesity\")\n",
    "\n",
    "# Barplot 3 - Age vs Obesity\n",
    "sns.barplot(x=df[\"obesity_level\"], y=df[\"Age\"], ci=None, palette=\"viridis\", ax=axes[1, 0])\n",
    "axes[1, 0].tick_params(axis='x', rotation=45)\n",
    "axes[1, 0].set_xlabel(\"Obesity Category\")\n",
    "axes[1, 0].set_ylabel(\"Age\")\n",
    "axes[1, 0].set_title(\"Age and Obesity\")\n",
    "\n",
    "# Barplot 4 - Physical Activity vs Obesity (FAF → physical_activity)\n",
    "sns.barplot(x=df[\"obesity_level\"], y=df[\"physical_activity\"], ci=None, palette=\"viridis\", ax=axes[1, 1])\n",
    "axes[1, 1].tick_params(axis='x', rotation=45)\n",
    "axes[1, 1].set_xlabel(\"Obesity Category\")\n",
    "axes[1, 1].set_ylabel(\"Physical Activity (physical_activity)\")\n",
    "axes[1, 1].set_title(\"Physical Activity and Obesity\")\n",
    "\n",
    "# Adjust layout\n",
    "plt.tight_layout()\n",
    "\n",
    "# Show the plots\n",
    "plt.show()\n"
   ]
  },
  {
   "cell_type": "code",
   "execution_count": null,
   "id": "5212185f",
   "metadata": {},
   "outputs": [],
   "source": [
    "df.duplicated().sum()"
   ]
  },
  {
   "cell_type": "code",
   "execution_count": null,
   "id": "b214c1c4",
   "metadata": {},
   "outputs": [],
   "source": [
    "df=df.drop_duplicates()"
   ]
  },
  {
   "cell_type": "code",
   "execution_count": null,
   "id": "08c876d4",
   "metadata": {},
   "outputs": [],
   "source": [
    "df.duplicated().sum()"
   ]
  },
  {
   "cell_type": "code",
   "execution_count": null,
   "id": "b8ab4ed5",
   "metadata": {},
   "outputs": [],
   "source": [
    "df.shape[0]"
   ]
  },
  {
   "cell_type": "code",
   "execution_count": null,
   "id": "c106be8a",
   "metadata": {},
   "outputs": [],
   "source": [
    "plt.figure(figsize=(6, 6))\n",
    "df[\"food_bw_meals\"].value_counts().plot.pie(autopct=\"%1.1f%%\", colors=sns.color_palette(\"pastel\"))\n",
    "plt.ylabel(\"\")  # Hide y-axis label\n",
    "plt.title(\"Food Between Meals Distribution in Total Population\")\n",
    "plt.show()"
   ]
  },
  {
   "cell_type": "code",
   "execution_count": null,
   "id": "66a555c2",
   "metadata": {},
   "outputs": [],
   "source": [
    "sample_df = df.sample(n=300, random_state=42)  # random_state for reproducibility\n"
   ]
  },
  {
   "cell_type": "code",
   "execution_count": null,
   "id": "94d134cc",
   "metadata": {},
   "outputs": [],
   "source": [
    "plt.figure(figsize=(10,6))\n",
    "sns.scatterplot(x='obesity_level', y='use_technological_devices', data=sample_df)\n",
    "\n",
    "plt.title('Technology Usage vs Obesity Level')\n",
    "plt.xlabel('Obesity Level')\n",
    "plt.ylabel('Time Using Technology (hours)')\n",
    "plt.xticks(rotation=45)\n",
    "plt.grid(True)\n",
    "plt.show()\n"
   ]
  },
  {
   "cell_type": "code",
   "execution_count": null,
   "id": "4c1c2569",
   "metadata": {},
   "outputs": [],
   "source": [
    "fig, axes = plt.subplots(2, 2, figsize=(15, 10))  # 2 rows, 2 columns\n",
    "fig.subplots_adjust(wspace=1, hspace=3) \n",
    "\n",
    "# Heatmap 1: obesity_level vs family_history_with_overweight\n",
    "ct1 = pd.crosstab(sample_df['obesity_level'], sample_df['family_history_with_overweight'])\n",
    "sns.heatmap(ct1, annot=True, fmt='d', cmap='Blues', ax=axes[0, 0])\n",
    "axes[0, 0].set_title('Obesity Level vs Family History With Overweight')\n",
    "axes[0, 0].set_xlabel('Family History With Overweight')\n",
    "axes[0, 0].set_ylabel('Obesity Level')\n",
    "axes[0, 0].tick_params(axis='x', rotation=45)\n",
    "\n",
    "# Heatmap 2: obesity_level vs high_caloric_food\n",
    "ct2 = pd.crosstab(sample_df['obesity_level'], sample_df['high_caloric_food'])\n",
    "sns.heatmap(ct2, annot=True, fmt='d', cmap='Blues', ax=axes[0, 1])\n",
    "axes[0, 1].set_title('Obesity Level vs High Caloric Food')\n",
    "axes[0, 1].set_xlabel('High Caloric Food Frequently?')\n",
    "axes[0, 1].set_ylabel('')\n",
    "axes[0, 1].tick_params(axis='x', rotation=45)\n",
    "\n",
    "# Heatmap 3: obesity_level vs smoking\n",
    "ct3 = pd.crosstab(sample_df['obesity_level'], sample_df['smoking'])\n",
    "sns.heatmap(ct3, annot=True, fmt='d', cmap='Blues', ax=axes[1, 0])\n",
    "axes[1, 0].set_title('Obesity Level vs Smoking')\n",
    "axes[1, 0].set_xlabel('Smoking Status')\n",
    "axes[1, 0].set_ylabel('Obesity Level')\n",
    "axes[1, 0].tick_params(axis='x', rotation=45)\n",
    "\n",
    "# Heatmap 4: obesity_level vs monitor_num_calories\n",
    "ct4 = pd.crosstab(sample_df['obesity_level'], sample_df['monitor_num_calories'])\n",
    "sns.heatmap(ct4, annot=True, fmt='d', cmap='Blues', ax=axes[1, 1])\n",
    "axes[1, 1].set_title('Obesity Level vs Calorie Monitoring')\n",
    "axes[1, 1].set_xlabel('Calorie Monitoring?')\n",
    "axes[1, 1].set_ylabel('')\n",
    "axes[1, 1].tick_params(axis='x', rotation=45)\n",
    "\n",
    "plt.tight_layout()\n",
    "plt.show()\n"
   ]
  },
  {
   "cell_type": "code",
   "execution_count": null,
   "id": "2db2bdfe",
   "metadata": {},
   "outputs": [],
   "source": [
    "\n",
    "fig, axes = plt.subplots(2, 2, figsize=(15, 10))  # 2 rows, 2 columns\n",
    "\n",
    "# Scatterplot 1 - use_vegetables vs obesity_level\n",
    "sns.scatterplot(x=sample_df[\"obesity_level\"], y=sample_df[\"use_vegetables\"], ax=axes[0, 0])\n",
    "axes[0, 0].tick_params(axis='x', rotation=45)\n",
    "axes[0, 0].set_xlabel(\"Obesity Category\")\n",
    "axes[0, 0].set_ylabel(\"Vegetable Consumption (use_vegetables)\")\n",
    "axes[0, 0].set_title(\"Vegetables and Obesity\")\n",
    "\n",
    "# Scatterplot 2 - num_meals_daily vs obesity_level\n",
    "sns.scatterplot(x=sample_df[\"obesity_level\"], y=sample_df[\"num_meals_daily\"], ax=axes[0, 1])\n",
    "axes[0, 1].tick_params(axis='x', rotation=45)\n",
    "axes[0, 1].set_xlabel(\"Obesity Category\")\n",
    "axes[0, 1].set_ylabel(\"Number of Meals per Day (num_meals_daily)\")\n",
    "axes[0, 1].set_title(\"Meals per Day and Obesity\")\n",
    "\n",
    "# Scatterplot 3 - CH2O vs obesity_level (No change)\n",
    "sns.scatterplot(x=sample_df[\"obesity_level\"], y=sample_df[\"CH2O\"], ax=axes[1, 0])\n",
    "axes[1, 0].tick_params(axis='x', rotation=45)\n",
    "axes[1, 0].set_xlabel(\"Obesity Category\")\n",
    "axes[1, 0].set_ylabel(\"CH2O\")\n",
    "axes[1, 0].set_title(\"CH2O and Obesity\")\n",
    "\n",
    "# Scatterplot 4 - physical_activity vs obesity_level\n",
    "sns.scatterplot(x=sample_df[\"obesity_level\"], y=sample_df[\"physical_activity\"], ax=axes[1, 1])\n",
    "axes[1, 1].tick_params(axis='x', rotation=45)\n",
    "axes[1, 1].set_xlabel(\"Obesity Category\")\n",
    "axes[1, 1].set_ylabel(\"Physical Activity (physical_activity)\")\n",
    "axes[1, 1].set_title(\"Physical Activity and Obesity\")\n",
    "\n",
    "# Adjust layout\n",
    "plt.tight_layout()\n",
    "\n",
    "# Show the plots\n",
    "plt.show()\n",
    "\n"
   ]
  },
  {
   "cell_type": "code",
   "execution_count": null,
   "id": "437d03a4",
   "metadata": {},
   "outputs": [],
   "source": [
    "sns.countplot(x='alcohol', hue='obesity_level', data=df)\n",
    "plt.title('Alcohol vs Obesity')\n",
    "plt.show()"
   ]
  },
  {
   "cell_type": "code",
   "execution_count": null,
   "id": "08506b6e",
   "metadata": {},
   "outputs": [],
   "source": [
    "sns.countplot(x='traveling', hue='obesity_level', data=df)\n",
    "plt.title('Travelling vs Obesity')\n",
    "plt.show()"
   ]
  },
  {
   "cell_type": "code",
   "execution_count": null,
   "id": "63275338",
   "metadata": {},
   "outputs": [],
   "source": [
    "df1=sample_df[sample_df['Gender']=='Male']\n",
    "df2=sample_df[sample_df['Gender']=='Female']"
   ]
  },
  {
   "cell_type": "code",
   "execution_count": null,
   "id": "032fcfb3",
   "metadata": {},
   "outputs": [],
   "source": [
    "avg=df1['Weight'].mean()\n",
    "print('Average',avg)"
   ]
  },
  {
   "cell_type": "code",
   "execution_count": null,
   "id": "25ce3363",
   "metadata": {},
   "outputs": [],
   "source": [
    "many=df1['Height'].mode()\n",
    "print('mode',many)"
   ]
  },
  {
   "cell_type": "code",
   "execution_count": null,
   "id": "fb86ac68",
   "metadata": {},
   "outputs": [],
   "source": [
    "fig, axes = plt.subplots(2, 2, figsize=(15, 10))  # 2 rows, 2 columns\n",
    "\n",
    "plt.suptitle('Graph between Float features and Obesity', fontsize=15, fontweight='bold')\n",
    "\n",
    "# Barplot 1 - Weight vs Obesity\n",
    "sns.barplot(x=df1[\"obesity_level\"], y=df1[\"Weight\"], ci=None, palette=\"viridis\", ax=axes[0, 0])\n",
    "axes[0, 0].tick_params(axis='x', rotation=45)\n",
    "axes[0, 0].set_xlabel(\"Obesity Category\")\n",
    "axes[0, 0].set_ylabel(\"Weight\")\n",
    "axes[0, 0].set_title(\"Weight and Obesity\")\n",
    "\n",
    "# Barplot 2 - Height vs Obesity\n",
    "sns.barplot(x=df1[\"obesity_level\"], y=df1[\"Height\"], ci=None, palette=\"viridis\", ax=axes[0, 1])\n",
    "axes[0, 1].tick_params(axis='x', rotation=45)\n",
    "axes[0, 1].set_xlabel(\"Obesity Category\")\n",
    "axes[0, 1].set_ylabel(\"Height\")\n",
    "axes[0, 1].set_title(\"Height and Obesity\")\n",
    "\n",
    "# Barplot 3 - Age vs Obesity\n",
    "sns.barplot(x=df1[\"obesity_level\"], y=df1[\"Age\"], ci=None, palette=\"viridis\", ax=axes[1, 0])\n",
    "axes[1, 0].tick_params(axis='x', rotation=45)\n",
    "axes[1, 0].set_xlabel(\"Obesity Category\")\n",
    "axes[1, 0].set_ylabel(\"Age\")\n",
    "axes[1, 0].set_title(\"Age and Obesity\")\n",
    "\n",
    "# Barplot 4 - Physical Activity vs Obesity (FAF → physical_activity)\n",
    "sns.barplot(x=df1[\"obesity_level\"], y=df1[\"physical_activity\"], ci=None, palette=\"viridis\", ax=axes[1, 1])\n",
    "axes[1, 1].tick_params(axis='x', rotation=45)\n",
    "axes[1, 1].set_xlabel(\"Obesity Category\")\n",
    "axes[1, 1].set_ylabel(\"Physical Activity (physical_activity)\")\n",
    "axes[1, 1].set_title(\"Physical Activity and Obesity\")\n",
    "\n",
    "plt.tight_layout()\n",
    "#saving the figure\n",
    "plt.savefig('male_1.png')\n",
    "# Show the plots\n",
    "plt.show()\n"
   ]
  },
  {
   "cell_type": "code",
   "execution_count": null,
   "id": "cfdf4719",
   "metadata": {},
   "outputs": [],
   "source": [
    "fig, axes = plt.subplots(2, 2, figsize=(15, 10))  # 2 rows, 2 columns\n",
    "fig.subplots_adjust(wspace=1, hspace=3) \n",
    "\n",
    "# Heatmap 1: obesity_level vs family_history_with_overweight\n",
    "ct1 = pd.crosstab(df1['obesity_level'], df1['family_history_with_overweight'])\n",
    "sns.heatmap(ct1, annot=True, fmt='d', cmap='Blues', ax=axes[0, 0])\n",
    "axes[0, 0].set_title('Obesity Level vs Family History With Overweight')\n",
    "axes[0, 0].set_xlabel('Family History With Overweight')\n",
    "axes[0, 0].set_ylabel('Obesity Level')\n",
    "axes[0, 0].tick_params(axis='x', rotation=45)\n",
    "\n",
    "# Heatmap 2: obesity_level vs high_caloric_food\n",
    "ct2 = pd.crosstab(df1['obesity_level'], df1['high_caloric_food'])\n",
    "sns.heatmap(ct2, annot=True, fmt='d', cmap='Blues', ax=axes[0, 1])\n",
    "axes[0, 1].set_title('Obesity Level vs High Caloric Food')\n",
    "axes[0, 1].set_xlabel('High Caloric Food Frequently?')\n",
    "axes[0, 1].set_ylabel('')\n",
    "axes[0, 1].tick_params(axis='x', rotation=45)\n",
    "\n",
    "# Heatmap 3: obesity_level vs smoking\n",
    "ct3 = pd.crosstab(df1['obesity_level'], df1['smoking'])\n",
    "sns.heatmap(ct3, annot=True, fmt='d', cmap='Blues', ax=axes[1, 0])\n",
    "axes[1, 0].set_title('Obesity Level vs Smoking')\n",
    "axes[1, 0].set_xlabel('Smoking Status')\n",
    "axes[1, 0].set_ylabel('Obesity Level')\n",
    "axes[1, 0].tick_params(axis='x', rotation=45)\n",
    "\n",
    "# Heatmap 4: obesity_level vs monitor_num_calories\n",
    "ct4 = pd.crosstab(df1['obesity_level'], df1['monitor_num_calories'])\n",
    "sns.heatmap(ct4, annot=True, fmt='d', cmap='Blues', ax=axes[1, 1])\n",
    "axes[1, 1].set_title('Obesity Level vs Calorie Monitoring')\n",
    "axes[1, 1].set_xlabel('Calorie Monitoring?')\n",
    "axes[1, 1].set_ylabel('')\n",
    "axes[1, 1].tick_params(axis='x', rotation=45)\n",
    "\n",
    "plt.tight_layout()\n",
    "plt.savefig('male_2.png')\n",
    "plt.show()\n"
   ]
  },
  {
   "cell_type": "code",
   "execution_count": null,
   "id": "01b81d28",
   "metadata": {},
   "outputs": [],
   "source": [
    "\n",
    "fig, axes = plt.subplots(2, 2, figsize=(15, 10))  # 2 rows, 2 columns\n",
    "\n",
    "# Scatterplot 1 - use_vegetables vs obesity_level\n",
    "sns.scatterplot(x=df1[\"obesity_level\"], y=df1[\"use_vegetables\"], ax=axes[0, 0])\n",
    "axes[0, 0].tick_params(axis='x', rotation=45)\n",
    "axes[0, 0].set_xlabel(\"Obesity Category\")\n",
    "axes[0, 0].set_ylabel(\"Vegetable Consumption (use_vegetables)\")\n",
    "axes[0, 0].set_title(\"Vegetables and Obesity\")\n",
    "\n",
    "# Scatterplot 2 - num_meals_daily vs obesity_level\n",
    "sns.scatterplot(x=df1[\"obesity_level\"], y=df1[\"num_meals_daily\"], ax=axes[0, 1])\n",
    "axes[0, 1].tick_params(axis='x', rotation=45)\n",
    "axes[0, 1].set_xlabel(\"Obesity Category\")\n",
    "axes[0, 1].set_ylabel(\"Number of Meals per Day (num_meals_daily)\")\n",
    "axes[0, 1].set_title(\"Meals per Day and Obesity\")\n",
    "\n",
    "# Scatterplot 3 - CH2O vs obesity_level (No change)\n",
    "sns.scatterplot(x=df1[\"obesity_level\"], y=df1[\"CH2O\"], ax=axes[1, 0])\n",
    "axes[1, 0].tick_params(axis='x', rotation=45)\n",
    "axes[1, 0].set_xlabel(\"Obesity Category\")\n",
    "axes[1, 0].set_ylabel(\"CH2O\")\n",
    "axes[1, 0].set_title(\"CH2O and Obesity\")\n",
    "\n",
    "# Scatterplot 4 - physical_activity vs obesity_level\n",
    "sns.scatterplot(x=df1[\"obesity_level\"], y=df1[\"physical_activity\"], ax=axes[1, 1])\n",
    "axes[1, 1].tick_params(axis='x', rotation=45)\n",
    "axes[1, 1].set_xlabel(\"Obesity Category\")\n",
    "axes[1, 1].set_ylabel(\"Physical Activity (physical_activity)\")\n",
    "axes[1, 1].set_title(\"Physical Activity and Obesity\")\n",
    "\n",
    "# Adjust layout\n",
    "plt.tight_layout()\n",
    "\n",
    "plt.savefig('male_3.png')\n",
    "# Show the plots\n",
    "plt.show()\n",
    "\n"
   ]
  },
  {
   "cell_type": "code",
   "execution_count": null,
   "id": "b7480de0",
   "metadata": {},
   "outputs": [],
   "source": [
    "sns.countplot(x='alcohol', hue='obesity_level', data=df1)\n",
    "plt.title('Alcohol vs Obesity')\n",
    "plt.savefig('male_4.png')\n",
    "plt.show()"
   ]
  },
  {
   "cell_type": "code",
   "execution_count": null,
   "id": "a8909b57",
   "metadata": {},
   "outputs": [],
   "source": [
    "sns.countplot(x='traveling', hue='obesity_level', data=df1)\n",
    "plt.title('Travelling vs Obesity')\n",
    "plt.savefig('male_5.png')\n",
    "plt.show()"
   ]
  },
  {
   "cell_type": "code",
   "execution_count": null,
   "id": "a0ef3c0c",
   "metadata": {},
   "outputs": [],
   "source": [
    "avg=df1['Weight'].mean()\n",
    "print('Average',avg)"
   ]
  },
  {
   "cell_type": "code",
   "execution_count": null,
   "id": "353d04fb",
   "metadata": {},
   "outputs": [],
   "source": [
    "many=df1['Height'].mode()\n",
    "print('mode',many)"
   ]
  },
  {
   "cell_type": "code",
   "execution_count": null,
   "id": "e9b306c4",
   "metadata": {},
   "outputs": [],
   "source": [
    "fig, axes = plt.subplots(2, 2, figsize=(15, 10))  # 2 rows, 2 columns\n",
    "\n",
    "# Barplot 1 - Weight vs Obesity\n",
    "sns.barplot(x=df2[\"obesity_level\"], y=df2[\"Weight\"], ci=None, palette=\"viridis\", ax=axes[0, 0])\n",
    "axes[0, 0].tick_params(axis='x', rotation=45)\n",
    "axes[0, 0].set_xlabel(\"Obesity Category\")\n",
    "axes[0, 0].set_ylabel(\"Weight\")\n",
    "axes[0, 0].set_title(\"Weight and Obesity\")\n",
    "\n",
    "# Barplot 2 - Height vs Obesity\n",
    "sns.barplot(x=df2[\"obesity_level\"], y=df2[\"Height\"], ci=None, palette=\"viridis\", ax=axes[0, 1])\n",
    "axes[0, 1].tick_params(axis='x', rotation=45)\n",
    "axes[0, 1].set_xlabel(\"Obesity Category\")\n",
    "axes[0, 1].set_ylabel(\"Height\")\n",
    "axes[0, 1].set_title(\"Height and Obesity\")\n",
    "\n",
    "# Barplot 3 - Age vs Obesity\n",
    "sns.barplot(x=df2[\"obesity_level\"], y=df2[\"Age\"], ci=None, palette=\"viridis\", ax=axes[1, 0])\n",
    "axes[1, 0].tick_params(axis='x', rotation=45)\n",
    "axes[1, 0].set_xlabel(\"Obesity Category\")\n",
    "axes[1, 0].set_ylabel(\"Age\")\n",
    "axes[1, 0].set_title(\"Age and Obesity\")\n",
    "\n",
    "# Barplot 4 - Physical Activity vs Obesity (FAF → physical_activity)\n",
    "sns.barplot(x=df2[\"obesity_level\"], y=df2[\"physical_activity\"], ci=None, palette=\"viridis\", ax=axes[1, 1])\n",
    "axes[1, 1].tick_params(axis='x', rotation=45)\n",
    "axes[1, 1].set_xlabel(\"Obesity Category\")\n",
    "axes[1, 1].set_ylabel(\"Physical Activity (physical_activity)\")\n",
    "axes[1, 1].set_title(\"Physical Activity and Obesity\")\n",
    "\n",
    "# Adjust layout\n",
    "plt.tight_layout()\n",
    "\n",
    "plt.savefig('female_1.png')\n",
    "# Show the plots\n",
    "plt.show()\n"
   ]
  },
  {
   "cell_type": "code",
   "execution_count": null,
   "id": "e8170eab",
   "metadata": {},
   "outputs": [],
   "source": [
    "fig, axes = plt.subplots(2, 2, figsize=(15, 10))  # 2 rows, 2 columns\n",
    "fig.subplots_adjust(wspace=1, hspace=3) \n",
    "\n",
    "# Heatmap 1: obesity_level vs family_history_with_overweight\n",
    "ct1 = pd.crosstab(df2['obesity_level'], df2['family_history_with_overweight'])\n",
    "sns.heatmap(ct1, annot=True, fmt='d', cmap='Blues', ax=axes[0, 0])\n",
    "axes[0, 0].set_title('Obesity Level vs Family History With Overweight')\n",
    "axes[0, 0].set_xlabel('Family History With Overweight')\n",
    "axes[0, 0].set_ylabel('Obesity Level')\n",
    "axes[0, 0].tick_params(axis='x', rotation=45)\n",
    "\n",
    "# Heatmap 2: obesity_level vs high_caloric_food\n",
    "ct2 = pd.crosstab(df2['obesity_level'], df2['high_caloric_food'])\n",
    "sns.heatmap(ct2, annot=True, fmt='d', cmap='Blues', ax=axes[0, 1])\n",
    "axes[0, 1].set_title('Obesity Level vs High Caloric Food')\n",
    "axes[0, 1].set_xlabel('High Caloric Food Frequently?')\n",
    "axes[0, 1].set_ylabel('')\n",
    "axes[0, 1].tick_params(axis='x', rotation=45)\n",
    "\n",
    "# Heatmap 3: obesity_level vs smoking\n",
    "ct3 = pd.crosstab(df2['obesity_level'], df2['smoking'])\n",
    "sns.heatmap(ct3, annot=True, fmt='d', cmap='Blues', ax=axes[1, 0])\n",
    "axes[1, 0].set_title('Obesity Level vs Smoking')\n",
    "axes[1, 0].set_xlabel('Smoking Status')\n",
    "axes[1, 0].set_ylabel('Obesity Level')\n",
    "axes[1, 0].tick_params(axis='x', rotation=45)\n",
    "\n",
    "# Heatmap 4: obesity_level vs monitor_num_calories\n",
    "ct4 = pd.crosstab(df2['obesity_level'], df2['monitor_num_calories'])\n",
    "sns.heatmap(ct4, annot=True, fmt='d', cmap='Blues', ax=axes[1, 1])\n",
    "axes[1, 1].set_title('Obesity Level vs Calorie Monitoring')\n",
    "axes[1, 1].set_xlabel('Calorie Monitoring?')\n",
    "axes[1, 1].set_ylabel('')\n",
    "axes[1, 1].tick_params(axis='x', rotation=45)\n",
    "\n",
    "plt.tight_layout()\n",
    "\n",
    "plt.savefig('female_2.png')\n",
    "plt.show()\n"
   ]
  },
  {
   "cell_type": "code",
   "execution_count": null,
   "id": "c656e541",
   "metadata": {},
   "outputs": [],
   "source": [
    "\n",
    "fig, axes = plt.subplots(2, 2, figsize=(15, 10))  # 2 rows, 2 columns\n",
    "\n",
    "# Scatterplot 1 - use_vegetables vs obesity_level\n",
    "sns.scatterplot(x=df2[\"obesity_level\"], y=df2[\"use_vegetables\"], ax=axes[0, 0])\n",
    "axes[0, 0].tick_params(axis='x', rotation=45)\n",
    "axes[0, 0].set_xlabel(\"Obesity Category\")\n",
    "axes[0, 0].set_ylabel(\"Vegetable Consumption (use_vegetables)\")\n",
    "axes[0, 0].set_title(\"Vegetables and Obesity\")\n",
    "\n",
    "# Scatterplot 2 - num_meals_daily vs obesity_level\n",
    "sns.scatterplot(x=df2[\"obesity_level\"], y=df2[\"num_meals_daily\"], ax=axes[0, 1])\n",
    "axes[0, 1].tick_params(axis='x', rotation=45)\n",
    "axes[0, 1].set_xlabel(\"Obesity Category\")\n",
    "axes[0, 1].set_ylabel(\"Number of Meals per Day (num_meals_daily)\")\n",
    "axes[0, 1].set_title(\"Meals per Day and Obesity\")\n",
    "\n",
    "# Scatterplot 3 - CH2O vs obesity_level (No change)\n",
    "sns.scatterplot(x=df2[\"obesity_level\"], y=df2[\"CH2O\"], ax=axes[1, 0])\n",
    "axes[1, 0].tick_params(axis='x', rotation=45)\n",
    "axes[1, 0].set_xlabel(\"Obesity Category\")\n",
    "axes[1, 0].set_ylabel(\"CH2O\")\n",
    "axes[1, 0].set_title(\"CH2O and Obesity\")\n",
    "\n",
    "# Scatterplot 4 - physical_activity vs obesity_level\n",
    "sns.scatterplot(x=df2[\"obesity_level\"], y=df2[\"physical_activity\"], ax=axes[1, 1])\n",
    "axes[1, 1].tick_params(axis='x', rotation=45)\n",
    "axes[1, 1].set_xlabel(\"Obesity Category\")\n",
    "axes[1, 1].set_ylabel(\"Physical Activity (physical_activity)\")\n",
    "axes[1, 1].set_title(\"Physical Activity and Obesity\")\n",
    "\n",
    "# Adjust layout\n",
    "plt.tight_layout()\n",
    "\n",
    "plt.savefig('female_3.png')\n",
    "# Show the plots\n",
    "plt.show()\n",
    "\n"
   ]
  },
  {
   "cell_type": "code",
   "execution_count": null,
   "id": "dd161d1c",
   "metadata": {},
   "outputs": [],
   "source": [
    "sns.countplot(x='alcohol', hue='obesity_level', data=df2)\n",
    "plt.title('Alcohol vs Obesity')\n",
    "plt.savefig('female_4.png')\n",
    "plt.show()"
   ]
  },
  {
   "cell_type": "code",
   "execution_count": null,
   "id": "2d15f7f7",
   "metadata": {},
   "outputs": [],
   "source": [
    "sns.countplot(x='traveling', hue='obesity_level', data=df2)\n",
    "plt.title('Travelling vs Obesity')\n",
    "plt.savefig('female_5.png')\n",
    "plt.show()"
   ]
  }
 ],
 "metadata": {
  "kernelspec": {
   "display_name": "Python 3",
   "language": "python",
   "name": "python3"
  },
  "language_info": {
   "codemirror_mode": {
    "name": "ipython",
    "version": 3
   },
   "file_extension": ".py",
   "mimetype": "text/x-python",
   "name": "python",
   "nbconvert_exporter": "python",
   "pygments_lexer": "ipython3",
   "version": "3.12.4"
  }
 },
 "nbformat": 4,
 "nbformat_minor": 5
}
